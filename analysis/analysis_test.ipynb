{
 "cells": [
  {
   "cell_type": "code",
   "execution_count": 3,
   "metadata": {},
   "outputs": [],
   "source": [
    "import numpy as np"
   ]
  },
  {
   "cell_type": "code",
   "execution_count": 4,
   "metadata": {},
   "outputs": [],
   "source": [
    "def arclength(azi1, alt1, azi2, alt2, degrees=True, method=\"gs\"):\n",
    "    # https://en.wikipedia.org/wiki/Great-circle_distance\n",
    "    from numpy import sin, cos\n",
    "    if degrees:\n",
    "        azi1, alt1, azi2, alt2 = np.radians((azi1, alt1, azi2, alt2))\n",
    "\n",
    "    delta_alt = np.abs(alt2 - alt1)\n",
    "\n",
    "    if method == \"gs\": # Great-circle distance\n",
    "        angle = np.arccos(sin(azi1)*sin(azi2) + cos(azi1)*cos(azi2)*cos(delta_alt))\n",
    "    elif method == \"hs\":\n",
    "        pass\n",
    "    \n",
    "    return np.degrees(angle) if degrees else angle"
   ]
  },
  {
   "cell_type": "code",
   "execution_count": 5,
   "metadata": {},
   "outputs": [
    {
     "data": {
      "text/plain": [
       "52.497063660196844"
      ]
     },
     "execution_count": 5,
     "metadata": {},
     "output_type": "execute_result"
    }
   ],
   "source": [
    "arclength(40.71, -74.01, 48.86, 2.35)"
   ]
  }
 ],
 "metadata": {
  "kernelspec": {
   "display_name": "mindscope",
   "language": "python",
   "name": "python3"
  },
  "language_info": {
   "codemirror_mode": {
    "name": "ipython",
    "version": 3
   },
   "file_extension": ".py",
   "mimetype": "text/x-python",
   "name": "python",
   "nbconvert_exporter": "python",
   "pygments_lexer": "ipython3",
   "version": "3.7.10"
  },
  "orig_nbformat": 4
 },
 "nbformat": 4,
 "nbformat_minor": 2
}
