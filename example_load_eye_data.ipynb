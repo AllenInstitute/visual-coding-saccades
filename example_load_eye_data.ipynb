{
 "cells": [
  {
   "cell_type": "code",
   "execution_count": 20,
   "metadata": {},
   "outputs": [
    {
     "name": "stdout",
     "output_type": "stream",
     "text": [
      "The autoreload extension is already loaded. To reload it, use:\n",
      "  %reload_ext autoreload\n"
     ]
    }
   ],
   "source": [
    "import sys\n",
    "import os\n",
    "from os import path\n",
    "import glob\n",
    "import json\n",
    "import re\n",
    "\n",
    "import matplotlib.pyplot as plt\n",
    "%matplotlib inline\n",
    "import numpy as np\n",
    "import pandas as pd\n",
    "from tqdm import tqdm\n",
    "from allensdk.core.brain_observatory_cache import BrainObservatoryCache\n",
    "\n",
    "# Local imports (hacky approach)\n",
    "if \"..\" not in sys.path: sys.path.append(\"..\")\n",
    "from saccade_config import *\n",
    "\n",
    "%load_ext autoreload\n",
    "%autoreload 2"
   ]
  },
  {
   "cell_type": "code",
   "execution_count": 2,
   "metadata": {},
   "outputs": [],
   "source": [
    "boc = BrainObservatoryCache(manifest_file=BRAIN_OBSERVATORY_CACHE_MANIFEST_FILE)"
   ]
  },
  {
   "cell_type": "code",
   "execution_count": 3,
   "metadata": {},
   "outputs": [
    {
     "name": "stdout",
     "output_type": "stream",
     "text": [
      "837 total experiments with eye tracking\n"
     ]
    }
   ],
   "source": [
    "# Get all experiments with eye tracking\n",
    "all_experiments = [\n",
    "    exp for exp in boc.get_ophys_experiments()\n",
    "    if not exp[\"fail_eye_tracking\"]\n",
    "]\n",
    "print(f\"{len(all_experiments)} total experiments with eye tracking\")"
   ]
  },
  {
   "cell_type": "code",
   "execution_count": 4,
   "metadata": {},
   "outputs": [],
   "source": [
    "# Load the first experiment\n",
    "exp_id = all_experiments[0][\"id\"]\n",
    "exp_data = boc.get_ophys_experiment_data(exp_id)"
   ]
  },
  {
   "cell_type": "code",
   "execution_count": 5,
   "metadata": {},
   "outputs": [
    {
     "data": {
      "text/plain": [
       "{'sex': 'female',\n",
       " 'targeted_structure': 'VISpm',\n",
       " 'ophys_experiment_id': 649409874,\n",
       " 'experiment_container_id': 646959440,\n",
       " 'excitation_lambda': '910 nanometers',\n",
       " 'indicator': 'GCaMP6f',\n",
       " 'fov': '400x400 microns (512 x 512 pixels)',\n",
       " 'genotype': 'Vip-IRES-Cre/wt;Ai148(TIT2L-GC6f-ICL-tTA2)/wt',\n",
       " 'session_start_time': datetime.datetime(2017, 11, 20, 13, 13, 28),\n",
       " 'session_type': 'three_session_A',\n",
       " 'specimen_name': 'Vip-IRES-Cre;Ai148-350249',\n",
       " 'cre_line': 'Vip-IRES-Cre/wt',\n",
       " 'imaging_depth_um': 175,\n",
       " 'age_days': 101,\n",
       " 'device': 'Nikon A1R-MP multiphoton microscope',\n",
       " 'device_name': 'CAM2P.5',\n",
       " 'pipeline_version': '3.0'}"
      ]
     },
     "execution_count": 5,
     "metadata": {},
     "output_type": "execute_result"
    }
   ],
   "source": [
    "# get_metadata() returns various experiment data for the session\n",
    "exp_data.get_metadata()"
   ]
  },
  {
   "cell_type": "code",
   "execution_count": 17,
   "metadata": {},
   "outputs": [
    {
     "data": {
      "text/plain": [
       "(118996, 5)"
      ]
     },
     "execution_count": 17,
     "metadata": {},
     "output_type": "execute_result"
    }
   ],
   "source": [
    "eye_tracking = boc.get_eye_tracking(exp_id)\n",
    "eye_tracking.shape"
   ]
  },
  {
   "cell_type": "code",
   "execution_count": 33,
   "metadata": {},
   "outputs": [
    {
     "data": {
      "text/plain": [
       "[<matplotlib.lines.Line2D at 0x7fc4d927be50>]"
      ]
     },
     "execution_count": 33,
     "metadata": {},
     "output_type": "execute_result"
    },
    {
     "data": {
      "image/png": "[encoded data removed]",
      "text/plain": [
       "<Figure size 432x288 with 1 Axes>"
      ]
     },
     "metadata": {
      "needs_background": "light"
     },
     "output_type": "display_data"
    }
   ],
   "source": [
    "plt.plot(eye_tracking[:, 2])"
   ]
  }
 ],
 "metadata": {
  "kernelspec": {
   "display_name": "mindscope",
   "language": "python",
   "name": "python3"
  },
  "language_info": {
   "codemirror_mode": {
    "name": "ipython",
    "version": 3
   },
   "file_extension": ".py",
   "mimetype": "text/x-python",
   "name": "python",
   "nbconvert_exporter": "python",
   "pygments_lexer": "ipython3",
   "version": "3.7.10"
  },
  "orig_nbformat": 4,
  "vscode": {
   "interpreter": {
    "hash": "b79caefb1b66d894aaf492f9262b035c19d01880314fbd64833c6c52022b268c"
   }
  }
 },
 "nbformat": 4,
 "nbformat_minor": 2
}
